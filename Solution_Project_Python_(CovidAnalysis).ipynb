{
 "cells": [
  {
   "cell_type": "code",
   "execution_count": 2,
   "id": "48f5c614",
   "metadata": {},
   "outputs": [],
   "source": [
    "import os\n"
   ]
  },
  {
   "cell_type": "code",
   "execution_count": 3,
   "id": "9a3c06a0",
   "metadata": {},
   "outputs": [],
   "source": [
    "os.chdir(r\"C:\\DataSets\")"
   ]
  },
  {
   "cell_type": "code",
   "execution_count": 4,
   "id": "25bb7914",
   "metadata": {},
   "outputs": [],
   "source": [
    "import pandas as pd"
   ]
  },
  {
   "cell_type": "code",
   "execution_count": 5,
   "id": "68a3feb4",
   "metadata": {},
   "outputs": [],
   "source": [
    "df=pd.read_csv(r\"NovelCoronovirusDataset\\covid_19_data.csv\")"
   ]
  },
  {
   "cell_type": "code",
   "execution_count": 6,
   "id": "82504bfd",
   "metadata": {},
   "outputs": [
    {
     "data": {
      "text/html": [
       "<div>\n",
       "<style scoped>\n",
       "    .dataframe tbody tr th:only-of-type {\n",
       "        vertical-align: middle;\n",
       "    }\n",
       "\n",
       "    .dataframe tbody tr th {\n",
       "        vertical-align: top;\n",
       "    }\n",
       "\n",
       "    .dataframe thead th {\n",
       "        text-align: right;\n",
       "    }\n",
       "</style>\n",
       "<table border=\"1\" class=\"dataframe\">\n",
       "  <thead>\n",
       "    <tr style=\"text-align: right;\">\n",
       "      <th></th>\n",
       "      <th>SNo</th>\n",
       "      <th>ObservationDate</th>\n",
       "      <th>Province/State</th>\n",
       "      <th>Country/Region</th>\n",
       "      <th>Last Update</th>\n",
       "      <th>Confirmed</th>\n",
       "      <th>Deaths</th>\n",
       "      <th>Recovered</th>\n",
       "    </tr>\n",
       "  </thead>\n",
       "  <tbody>\n",
       "    <tr>\n",
       "      <th>0</th>\n",
       "      <td>1</td>\n",
       "      <td>01/22/2020</td>\n",
       "      <td>Anhui</td>\n",
       "      <td>Mainland China</td>\n",
       "      <td>1/22/2020 17:00</td>\n",
       "      <td>1.0</td>\n",
       "      <td>0.0</td>\n",
       "      <td>0.0</td>\n",
       "    </tr>\n",
       "    <tr>\n",
       "      <th>1</th>\n",
       "      <td>2</td>\n",
       "      <td>01/22/2020</td>\n",
       "      <td>Beijing</td>\n",
       "      <td>Mainland China</td>\n",
       "      <td>1/22/2020 17:00</td>\n",
       "      <td>14.0</td>\n",
       "      <td>0.0</td>\n",
       "      <td>0.0</td>\n",
       "    </tr>\n",
       "    <tr>\n",
       "      <th>2</th>\n",
       "      <td>3</td>\n",
       "      <td>01/22/2020</td>\n",
       "      <td>Chongqing</td>\n",
       "      <td>Mainland China</td>\n",
       "      <td>1/22/2020 17:00</td>\n",
       "      <td>6.0</td>\n",
       "      <td>0.0</td>\n",
       "      <td>0.0</td>\n",
       "    </tr>\n",
       "    <tr>\n",
       "      <th>3</th>\n",
       "      <td>4</td>\n",
       "      <td>01/22/2020</td>\n",
       "      <td>Fujian</td>\n",
       "      <td>Mainland China</td>\n",
       "      <td>1/22/2020 17:00</td>\n",
       "      <td>1.0</td>\n",
       "      <td>0.0</td>\n",
       "      <td>0.0</td>\n",
       "    </tr>\n",
       "    <tr>\n",
       "      <th>4</th>\n",
       "      <td>5</td>\n",
       "      <td>01/22/2020</td>\n",
       "      <td>Gansu</td>\n",
       "      <td>Mainland China</td>\n",
       "      <td>1/22/2020 17:00</td>\n",
       "      <td>0.0</td>\n",
       "      <td>0.0</td>\n",
       "      <td>0.0</td>\n",
       "    </tr>\n",
       "  </tbody>\n",
       "</table>\n",
       "</div>"
      ],
      "text/plain": [
       "   SNo ObservationDate Province/State  Country/Region      Last Update  \\\n",
       "0    1      01/22/2020          Anhui  Mainland China  1/22/2020 17:00   \n",
       "1    2      01/22/2020        Beijing  Mainland China  1/22/2020 17:00   \n",
       "2    3      01/22/2020      Chongqing  Mainland China  1/22/2020 17:00   \n",
       "3    4      01/22/2020         Fujian  Mainland China  1/22/2020 17:00   \n",
       "4    5      01/22/2020          Gansu  Mainland China  1/22/2020 17:00   \n",
       "\n",
       "   Confirmed  Deaths  Recovered  \n",
       "0        1.0     0.0        0.0  \n",
       "1       14.0     0.0        0.0  \n",
       "2        6.0     0.0        0.0  \n",
       "3        1.0     0.0        0.0  \n",
       "4        0.0     0.0        0.0  "
      ]
     },
     "execution_count": 6,
     "metadata": {},
     "output_type": "execute_result"
    }
   ],
   "source": [
    "df.head()"
   ]
  },
  {
   "cell_type": "code",
   "execution_count": 7,
   "id": "213646e8",
   "metadata": {},
   "outputs": [
    {
     "data": {
      "text/plain": [
       "Index(['SNo', 'ObservationDate', 'Province/State', 'Country/Region',\n",
       "       'Last Update', 'Confirmed', 'Deaths', 'Recovered'],\n",
       "      dtype='object')"
      ]
     },
     "execution_count": 7,
     "metadata": {},
     "output_type": "execute_result"
    }
   ],
   "source": [
    "df.columns"
   ]
  },
  {
   "cell_type": "code",
   "execution_count": 8,
   "id": "e13443ef",
   "metadata": {},
   "outputs": [
    {
     "data": {
      "text/html": [
       "<div>\n",
       "<style scoped>\n",
       "    .dataframe tbody tr th:only-of-type {\n",
       "        vertical-align: middle;\n",
       "    }\n",
       "\n",
       "    .dataframe tbody tr th {\n",
       "        vertical-align: top;\n",
       "    }\n",
       "\n",
       "    .dataframe thead th {\n",
       "        text-align: right;\n",
       "    }\n",
       "</style>\n",
       "<table border=\"1\" class=\"dataframe\">\n",
       "  <thead>\n",
       "    <tr style=\"text-align: right;\">\n",
       "      <th></th>\n",
       "      <th>Province/State</th>\n",
       "      <th>Country/Region</th>\n",
       "      <th>Lat</th>\n",
       "      <th>Long</th>\n",
       "      <th>1/22/20</th>\n",
       "      <th>1/23/20</th>\n",
       "      <th>1/24/20</th>\n",
       "      <th>1/25/20</th>\n",
       "      <th>1/26/20</th>\n",
       "      <th>1/27/20</th>\n",
       "      <th>...</th>\n",
       "      <th>5/20/21</th>\n",
       "      <th>5/21/21</th>\n",
       "      <th>5/22/21</th>\n",
       "      <th>5/23/21</th>\n",
       "      <th>5/24/21</th>\n",
       "      <th>5/25/21</th>\n",
       "      <th>5/26/21</th>\n",
       "      <th>5/27/21</th>\n",
       "      <th>5/28/21</th>\n",
       "      <th>5/29/21</th>\n",
       "    </tr>\n",
       "  </thead>\n",
       "  <tbody>\n",
       "    <tr>\n",
       "      <th>0</th>\n",
       "      <td>NaN</td>\n",
       "      <td>Afghanistan</td>\n",
       "      <td>33.93911</td>\n",
       "      <td>67.709953</td>\n",
       "      <td>0</td>\n",
       "      <td>0</td>\n",
       "      <td>0</td>\n",
       "      <td>0</td>\n",
       "      <td>0</td>\n",
       "      <td>0</td>\n",
       "      <td>...</td>\n",
       "      <td>64575</td>\n",
       "      <td>65080</td>\n",
       "      <td>65486</td>\n",
       "      <td>65728</td>\n",
       "      <td>66275</td>\n",
       "      <td>66903</td>\n",
       "      <td>67743</td>\n",
       "      <td>68366</td>\n",
       "      <td>69130</td>\n",
       "      <td>70111</td>\n",
       "    </tr>\n",
       "    <tr>\n",
       "      <th>1</th>\n",
       "      <td>NaN</td>\n",
       "      <td>Albania</td>\n",
       "      <td>41.15330</td>\n",
       "      <td>20.168300</td>\n",
       "      <td>0</td>\n",
       "      <td>0</td>\n",
       "      <td>0</td>\n",
       "      <td>0</td>\n",
       "      <td>0</td>\n",
       "      <td>0</td>\n",
       "      <td>...</td>\n",
       "      <td>132118</td>\n",
       "      <td>132153</td>\n",
       "      <td>132176</td>\n",
       "      <td>132209</td>\n",
       "      <td>132215</td>\n",
       "      <td>132229</td>\n",
       "      <td>132244</td>\n",
       "      <td>132264</td>\n",
       "      <td>132285</td>\n",
       "      <td>132297</td>\n",
       "    </tr>\n",
       "    <tr>\n",
       "      <th>2</th>\n",
       "      <td>NaN</td>\n",
       "      <td>Algeria</td>\n",
       "      <td>28.03390</td>\n",
       "      <td>1.659600</td>\n",
       "      <td>0</td>\n",
       "      <td>0</td>\n",
       "      <td>0</td>\n",
       "      <td>0</td>\n",
       "      <td>0</td>\n",
       "      <td>0</td>\n",
       "      <td>...</td>\n",
       "      <td>126156</td>\n",
       "      <td>126434</td>\n",
       "      <td>126651</td>\n",
       "      <td>126860</td>\n",
       "      <td>127107</td>\n",
       "      <td>127361</td>\n",
       "      <td>127646</td>\n",
       "      <td>127926</td>\n",
       "      <td>128198</td>\n",
       "      <td>128456</td>\n",
       "    </tr>\n",
       "    <tr>\n",
       "      <th>3</th>\n",
       "      <td>NaN</td>\n",
       "      <td>Andorra</td>\n",
       "      <td>42.50630</td>\n",
       "      <td>1.521800</td>\n",
       "      <td>0</td>\n",
       "      <td>0</td>\n",
       "      <td>0</td>\n",
       "      <td>0</td>\n",
       "      <td>0</td>\n",
       "      <td>0</td>\n",
       "      <td>...</td>\n",
       "      <td>13569</td>\n",
       "      <td>13569</td>\n",
       "      <td>13569</td>\n",
       "      <td>13569</td>\n",
       "      <td>13569</td>\n",
       "      <td>13664</td>\n",
       "      <td>13671</td>\n",
       "      <td>13682</td>\n",
       "      <td>13693</td>\n",
       "      <td>13693</td>\n",
       "    </tr>\n",
       "    <tr>\n",
       "      <th>4</th>\n",
       "      <td>NaN</td>\n",
       "      <td>Angola</td>\n",
       "      <td>-11.20270</td>\n",
       "      <td>17.873900</td>\n",
       "      <td>0</td>\n",
       "      <td>0</td>\n",
       "      <td>0</td>\n",
       "      <td>0</td>\n",
       "      <td>0</td>\n",
       "      <td>0</td>\n",
       "      <td>...</td>\n",
       "      <td>31661</td>\n",
       "      <td>31909</td>\n",
       "      <td>32149</td>\n",
       "      <td>32441</td>\n",
       "      <td>32623</td>\n",
       "      <td>32933</td>\n",
       "      <td>33338</td>\n",
       "      <td>33607</td>\n",
       "      <td>33944</td>\n",
       "      <td>34180</td>\n",
       "    </tr>\n",
       "  </tbody>\n",
       "</table>\n",
       "<p>5 rows × 498 columns</p>\n",
       "</div>"
      ],
      "text/plain": [
       "  Province/State Country/Region       Lat       Long  1/22/20  1/23/20  \\\n",
       "0            NaN    Afghanistan  33.93911  67.709953        0        0   \n",
       "1            NaN        Albania  41.15330  20.168300        0        0   \n",
       "2            NaN        Algeria  28.03390   1.659600        0        0   \n",
       "3            NaN        Andorra  42.50630   1.521800        0        0   \n",
       "4            NaN         Angola -11.20270  17.873900        0        0   \n",
       "\n",
       "   1/24/20  1/25/20  1/26/20  1/27/20  ...  5/20/21  5/21/21  5/22/21  \\\n",
       "0        0        0        0        0  ...    64575    65080    65486   \n",
       "1        0        0        0        0  ...   132118   132153   132176   \n",
       "2        0        0        0        0  ...   126156   126434   126651   \n",
       "3        0        0        0        0  ...    13569    13569    13569   \n",
       "4        0        0        0        0  ...    31661    31909    32149   \n",
       "\n",
       "   5/23/21  5/24/21  5/25/21  5/26/21  5/27/21  5/28/21  5/29/21  \n",
       "0    65728    66275    66903    67743    68366    69130    70111  \n",
       "1   132209   132215   132229   132244   132264   132285   132297  \n",
       "2   126860   127107   127361   127646   127926   128198   128456  \n",
       "3    13569    13569    13664    13671    13682    13693    13693  \n",
       "4    32441    32623    32933    33338    33607    33944    34180  \n",
       "\n",
       "[5 rows x 498 columns]"
      ]
     },
     "execution_count": 8,
     "metadata": {},
     "output_type": "execute_result"
    }
   ],
   "source": [
    "df_confirmed=pd.read_csv(r\"NovelCoronovirusDataset\\time_series_covid_19_confirmed.csv\")\n",
    "df_confirmed.head()"
   ]
  },
  {
   "cell_type": "code",
   "execution_count": 9,
   "id": "26c75ba3",
   "metadata": {},
   "outputs": [
    {
     "ename": "NameError",
     "evalue": "name 'df1' is not defined",
     "output_type": "error",
     "traceback": [
      "\u001b[1;31m---------------------------------------------------------------------------\u001b[0m",
      "\u001b[1;31mNameError\u001b[0m                                 Traceback (most recent call last)",
      "Cell \u001b[1;32mIn[9], line 1\u001b[0m\n\u001b[1;32m----> 1\u001b[0m df1\u001b[38;5;241m.\u001b[39mcolumns\n",
      "\u001b[1;31mNameError\u001b[0m: name 'df1' is not defined"
     ]
    }
   ],
   "source": [
    "df1.columns"
   ]
  },
  {
   "cell_type": "code",
   "execution_count": 10,
   "id": "a3315ba6",
   "metadata": {},
   "outputs": [
    {
     "data": {
      "text/html": [
       "<div>\n",
       "<style scoped>\n",
       "    .dataframe tbody tr th:only-of-type {\n",
       "        vertical-align: middle;\n",
       "    }\n",
       "\n",
       "    .dataframe tbody tr th {\n",
       "        vertical-align: top;\n",
       "    }\n",
       "\n",
       "    .dataframe thead th {\n",
       "        text-align: right;\n",
       "    }\n",
       "</style>\n",
       "<table border=\"1\" class=\"dataframe\">\n",
       "  <thead>\n",
       "    <tr style=\"text-align: right;\">\n",
       "      <th></th>\n",
       "      <th>Province/State</th>\n",
       "      <th>Country/Region</th>\n",
       "      <th>Lat</th>\n",
       "      <th>Long</th>\n",
       "      <th>1/22/20</th>\n",
       "      <th>1/23/20</th>\n",
       "      <th>1/24/20</th>\n",
       "      <th>1/25/20</th>\n",
       "      <th>1/26/20</th>\n",
       "      <th>1/27/20</th>\n",
       "      <th>...</th>\n",
       "      <th>5/20/21</th>\n",
       "      <th>5/21/21</th>\n",
       "      <th>5/22/21</th>\n",
       "      <th>5/23/21</th>\n",
       "      <th>5/24/21</th>\n",
       "      <th>5/25/21</th>\n",
       "      <th>5/26/21</th>\n",
       "      <th>5/27/21</th>\n",
       "      <th>5/28/21</th>\n",
       "      <th>5/29/21</th>\n",
       "    </tr>\n",
       "  </thead>\n",
       "  <tbody>\n",
       "    <tr>\n",
       "      <th>0</th>\n",
       "      <td>NaN</td>\n",
       "      <td>Afghanistan</td>\n",
       "      <td>33.93911</td>\n",
       "      <td>67.709953</td>\n",
       "      <td>0</td>\n",
       "      <td>0</td>\n",
       "      <td>0</td>\n",
       "      <td>0</td>\n",
       "      <td>0</td>\n",
       "      <td>0</td>\n",
       "      <td>...</td>\n",
       "      <td>55687</td>\n",
       "      <td>55790</td>\n",
       "      <td>55889</td>\n",
       "      <td>56035</td>\n",
       "      <td>56295</td>\n",
       "      <td>56518</td>\n",
       "      <td>56711</td>\n",
       "      <td>56962</td>\n",
       "      <td>57119</td>\n",
       "      <td>57281</td>\n",
       "    </tr>\n",
       "    <tr>\n",
       "      <th>1</th>\n",
       "      <td>NaN</td>\n",
       "      <td>Albania</td>\n",
       "      <td>41.15330</td>\n",
       "      <td>20.168300</td>\n",
       "      <td>0</td>\n",
       "      <td>0</td>\n",
       "      <td>0</td>\n",
       "      <td>0</td>\n",
       "      <td>0</td>\n",
       "      <td>0</td>\n",
       "      <td>...</td>\n",
       "      <td>127869</td>\n",
       "      <td>128425</td>\n",
       "      <td>128601</td>\n",
       "      <td>128732</td>\n",
       "      <td>128826</td>\n",
       "      <td>128907</td>\n",
       "      <td>128978</td>\n",
       "      <td>129042</td>\n",
       "      <td>129097</td>\n",
       "      <td>129215</td>\n",
       "    </tr>\n",
       "    <tr>\n",
       "      <th>2</th>\n",
       "      <td>NaN</td>\n",
       "      <td>Algeria</td>\n",
       "      <td>28.03390</td>\n",
       "      <td>1.659600</td>\n",
       "      <td>0</td>\n",
       "      <td>0</td>\n",
       "      <td>0</td>\n",
       "      <td>0</td>\n",
       "      <td>0</td>\n",
       "      <td>0</td>\n",
       "      <td>...</td>\n",
       "      <td>87902</td>\n",
       "      <td>88066</td>\n",
       "      <td>88208</td>\n",
       "      <td>88346</td>\n",
       "      <td>88497</td>\n",
       "      <td>88672</td>\n",
       "      <td>88861</td>\n",
       "      <td>89040</td>\n",
       "      <td>89232</td>\n",
       "      <td>89419</td>\n",
       "    </tr>\n",
       "    <tr>\n",
       "      <th>3</th>\n",
       "      <td>NaN</td>\n",
       "      <td>Andorra</td>\n",
       "      <td>42.50630</td>\n",
       "      <td>1.521800</td>\n",
       "      <td>0</td>\n",
       "      <td>0</td>\n",
       "      <td>0</td>\n",
       "      <td>0</td>\n",
       "      <td>0</td>\n",
       "      <td>0</td>\n",
       "      <td>...</td>\n",
       "      <td>13234</td>\n",
       "      <td>13234</td>\n",
       "      <td>13234</td>\n",
       "      <td>13234</td>\n",
       "      <td>13234</td>\n",
       "      <td>13263</td>\n",
       "      <td>13381</td>\n",
       "      <td>13405</td>\n",
       "      <td>13416</td>\n",
       "      <td>13416</td>\n",
       "    </tr>\n",
       "    <tr>\n",
       "      <th>4</th>\n",
       "      <td>NaN</td>\n",
       "      <td>Angola</td>\n",
       "      <td>-11.20270</td>\n",
       "      <td>17.873900</td>\n",
       "      <td>0</td>\n",
       "      <td>0</td>\n",
       "      <td>0</td>\n",
       "      <td>0</td>\n",
       "      <td>0</td>\n",
       "      <td>0</td>\n",
       "      <td>...</td>\n",
       "      <td>26483</td>\n",
       "      <td>26513</td>\n",
       "      <td>26775</td>\n",
       "      <td>26778</td>\n",
       "      <td>27087</td>\n",
       "      <td>27204</td>\n",
       "      <td>27467</td>\n",
       "      <td>27529</td>\n",
       "      <td>27577</td>\n",
       "      <td>27646</td>\n",
       "    </tr>\n",
       "  </tbody>\n",
       "</table>\n",
       "<p>5 rows × 498 columns</p>\n",
       "</div>"
      ],
      "text/plain": [
       "  Province/State Country/Region       Lat       Long  1/22/20  1/23/20  \\\n",
       "0            NaN    Afghanistan  33.93911  67.709953        0        0   \n",
       "1            NaN        Albania  41.15330  20.168300        0        0   \n",
       "2            NaN        Algeria  28.03390   1.659600        0        0   \n",
       "3            NaN        Andorra  42.50630   1.521800        0        0   \n",
       "4            NaN         Angola -11.20270  17.873900        0        0   \n",
       "\n",
       "   1/24/20  1/25/20  1/26/20  1/27/20  ...  5/20/21  5/21/21  5/22/21  \\\n",
       "0        0        0        0        0  ...    55687    55790    55889   \n",
       "1        0        0        0        0  ...   127869   128425   128601   \n",
       "2        0        0        0        0  ...    87902    88066    88208   \n",
       "3        0        0        0        0  ...    13234    13234    13234   \n",
       "4        0        0        0        0  ...    26483    26513    26775   \n",
       "\n",
       "   5/23/21  5/24/21  5/25/21  5/26/21  5/27/21  5/28/21  5/29/21  \n",
       "0    56035    56295    56518    56711    56962    57119    57281  \n",
       "1   128732   128826   128907   128978   129042   129097   129215  \n",
       "2    88346    88497    88672    88861    89040    89232    89419  \n",
       "3    13234    13234    13263    13381    13405    13416    13416  \n",
       "4    26778    27087    27204    27467    27529    27577    27646  \n",
       "\n",
       "[5 rows x 498 columns]"
      ]
     },
     "execution_count": 10,
     "metadata": {},
     "output_type": "execute_result"
    }
   ],
   "source": [
    "\n",
    "df_recovered=pd.read_csv(r\"NovelCoronovirusDataset\\time_series_covid_19_recovered.csv\")\n",
    "df_recovered.head()"
   ]
  },
  {
   "cell_type": "code",
   "execution_count": 11,
   "id": "8c721542",
   "metadata": {},
   "outputs": [
    {
     "data": {
      "text/html": [
       "<div>\n",
       "<style scoped>\n",
       "    .dataframe tbody tr th:only-of-type {\n",
       "        vertical-align: middle;\n",
       "    }\n",
       "\n",
       "    .dataframe tbody tr th {\n",
       "        vertical-align: top;\n",
       "    }\n",
       "\n",
       "    .dataframe thead th {\n",
       "        text-align: right;\n",
       "    }\n",
       "</style>\n",
       "<table border=\"1\" class=\"dataframe\">\n",
       "  <thead>\n",
       "    <tr style=\"text-align: right;\">\n",
       "      <th></th>\n",
       "      <th>Province/State</th>\n",
       "      <th>Country/Region</th>\n",
       "      <th>Lat</th>\n",
       "      <th>Long</th>\n",
       "      <th>1/22/20</th>\n",
       "      <th>1/23/20</th>\n",
       "      <th>1/24/20</th>\n",
       "      <th>1/25/20</th>\n",
       "      <th>1/26/20</th>\n",
       "      <th>1/27/20</th>\n",
       "      <th>...</th>\n",
       "      <th>5/20/21</th>\n",
       "      <th>5/21/21</th>\n",
       "      <th>5/22/21</th>\n",
       "      <th>5/23/21</th>\n",
       "      <th>5/24/21</th>\n",
       "      <th>5/25/21</th>\n",
       "      <th>5/26/21</th>\n",
       "      <th>5/27/21</th>\n",
       "      <th>5/28/21</th>\n",
       "      <th>5/29/21</th>\n",
       "    </tr>\n",
       "  </thead>\n",
       "  <tbody>\n",
       "    <tr>\n",
       "      <th>0</th>\n",
       "      <td>NaN</td>\n",
       "      <td>Afghanistan</td>\n",
       "      <td>33.93911</td>\n",
       "      <td>67.709953</td>\n",
       "      <td>0</td>\n",
       "      <td>0</td>\n",
       "      <td>0</td>\n",
       "      <td>0</td>\n",
       "      <td>0</td>\n",
       "      <td>0</td>\n",
       "      <td>...</td>\n",
       "      <td>2772</td>\n",
       "      <td>2782</td>\n",
       "      <td>2792</td>\n",
       "      <td>2802</td>\n",
       "      <td>2812</td>\n",
       "      <td>2836</td>\n",
       "      <td>2855</td>\n",
       "      <td>2869</td>\n",
       "      <td>2881</td>\n",
       "      <td>2899</td>\n",
       "    </tr>\n",
       "    <tr>\n",
       "      <th>1</th>\n",
       "      <td>NaN</td>\n",
       "      <td>Albania</td>\n",
       "      <td>41.15330</td>\n",
       "      <td>20.168300</td>\n",
       "      <td>0</td>\n",
       "      <td>0</td>\n",
       "      <td>0</td>\n",
       "      <td>0</td>\n",
       "      <td>0</td>\n",
       "      <td>0</td>\n",
       "      <td>...</td>\n",
       "      <td>2440</td>\n",
       "      <td>2441</td>\n",
       "      <td>2442</td>\n",
       "      <td>2444</td>\n",
       "      <td>2445</td>\n",
       "      <td>2447</td>\n",
       "      <td>2447</td>\n",
       "      <td>2447</td>\n",
       "      <td>2448</td>\n",
       "      <td>2449</td>\n",
       "    </tr>\n",
       "    <tr>\n",
       "      <th>2</th>\n",
       "      <td>NaN</td>\n",
       "      <td>Algeria</td>\n",
       "      <td>28.03390</td>\n",
       "      <td>1.659600</td>\n",
       "      <td>0</td>\n",
       "      <td>0</td>\n",
       "      <td>0</td>\n",
       "      <td>0</td>\n",
       "      <td>0</td>\n",
       "      <td>0</td>\n",
       "      <td>...</td>\n",
       "      <td>3401</td>\n",
       "      <td>3405</td>\n",
       "      <td>3411</td>\n",
       "      <td>3418</td>\n",
       "      <td>3426</td>\n",
       "      <td>3433</td>\n",
       "      <td>3440</td>\n",
       "      <td>3448</td>\n",
       "      <td>3455</td>\n",
       "      <td>3460</td>\n",
       "    </tr>\n",
       "    <tr>\n",
       "      <th>3</th>\n",
       "      <td>NaN</td>\n",
       "      <td>Andorra</td>\n",
       "      <td>42.50630</td>\n",
       "      <td>1.521800</td>\n",
       "      <td>0</td>\n",
       "      <td>0</td>\n",
       "      <td>0</td>\n",
       "      <td>0</td>\n",
       "      <td>0</td>\n",
       "      <td>0</td>\n",
       "      <td>...</td>\n",
       "      <td>127</td>\n",
       "      <td>127</td>\n",
       "      <td>127</td>\n",
       "      <td>127</td>\n",
       "      <td>127</td>\n",
       "      <td>127</td>\n",
       "      <td>127</td>\n",
       "      <td>127</td>\n",
       "      <td>127</td>\n",
       "      <td>127</td>\n",
       "    </tr>\n",
       "    <tr>\n",
       "      <th>4</th>\n",
       "      <td>NaN</td>\n",
       "      <td>Angola</td>\n",
       "      <td>-11.20270</td>\n",
       "      <td>17.873900</td>\n",
       "      <td>0</td>\n",
       "      <td>0</td>\n",
       "      <td>0</td>\n",
       "      <td>0</td>\n",
       "      <td>0</td>\n",
       "      <td>0</td>\n",
       "      <td>...</td>\n",
       "      <td>704</td>\n",
       "      <td>709</td>\n",
       "      <td>715</td>\n",
       "      <td>725</td>\n",
       "      <td>731</td>\n",
       "      <td>735</td>\n",
       "      <td>742</td>\n",
       "      <td>745</td>\n",
       "      <td>749</td>\n",
       "      <td>757</td>\n",
       "    </tr>\n",
       "  </tbody>\n",
       "</table>\n",
       "<p>5 rows × 498 columns</p>\n",
       "</div>"
      ],
      "text/plain": [
       "  Province/State Country/Region       Lat       Long  1/22/20  1/23/20  \\\n",
       "0            NaN    Afghanistan  33.93911  67.709953        0        0   \n",
       "1            NaN        Albania  41.15330  20.168300        0        0   \n",
       "2            NaN        Algeria  28.03390   1.659600        0        0   \n",
       "3            NaN        Andorra  42.50630   1.521800        0        0   \n",
       "4            NaN         Angola -11.20270  17.873900        0        0   \n",
       "\n",
       "   1/24/20  1/25/20  1/26/20  1/27/20  ...  5/20/21  5/21/21  5/22/21  \\\n",
       "0        0        0        0        0  ...     2772     2782     2792   \n",
       "1        0        0        0        0  ...     2440     2441     2442   \n",
       "2        0        0        0        0  ...     3401     3405     3411   \n",
       "3        0        0        0        0  ...      127      127      127   \n",
       "4        0        0        0        0  ...      704      709      715   \n",
       "\n",
       "   5/23/21  5/24/21  5/25/21  5/26/21  5/27/21  5/28/21  5/29/21  \n",
       "0     2802     2812     2836     2855     2869     2881     2899  \n",
       "1     2444     2445     2447     2447     2447     2448     2449  \n",
       "2     3418     3426     3433     3440     3448     3455     3460  \n",
       "3      127      127      127      127      127      127      127  \n",
       "4      725      731      735      742      745      749      757  \n",
       "\n",
       "[5 rows x 498 columns]"
      ]
     },
     "execution_count": 11,
     "metadata": {},
     "output_type": "execute_result"
    }
   ],
   "source": [
    "\n",
    "df_deaths=pd.read_csv(r\"NovelCoronovirusDataset\\time_series_covid_19_deaths.csv\")\n",
    "df_deaths.head()"
   ]
  },
  {
   "cell_type": "code",
   "execution_count": 12,
   "id": "99b0026b",
   "metadata": {},
   "outputs": [
    {
     "name": "stdout",
     "output_type": "stream",
     "text": [
      "Index(['Province/State', 'Country/Region', 'Lat', 'Long', '1/22/20', '1/23/20',\n",
      "       '1/24/20', '1/25/20', '1/26/20', '1/27/20',\n",
      "       ...\n",
      "       '5/20/21', '5/21/21', '5/22/21', '5/23/21', '5/24/21', '5/25/21',\n",
      "       '5/26/21', '5/27/21', '5/28/21', '5/29/21'],\n",
      "      dtype='object', length=498)\n",
      "Index(['Province/State', 'Country/Region', 'Lat', 'Long', '1/22/20', '1/23/20',\n",
      "       '1/24/20', '1/25/20', '1/26/20', '1/27/20',\n",
      "       ...\n",
      "       '5/20/21', '5/21/21', '5/22/21', '5/23/21', '5/24/21', '5/25/21',\n",
      "       '5/26/21', '5/27/21', '5/28/21', '5/29/21'],\n",
      "      dtype='object', length=498)\n"
     ]
    }
   ],
   "source": [
    "print(df_deaths.columns)\n",
    "print(df_recovered.columns)\n"
   ]
  },
  {
   "cell_type": "markdown",
   "id": "82985638",
   "metadata": {},
   "source": [
    "# 1.Understanding the Data:"
   ]
  },
  {
   "cell_type": "markdown",
   "id": "723838ab",
   "metadata": {},
   "source": [
    "Import necessary libraries (e.g., pandas, matplotlib, seaborn).<br>\n",
    "Load the COVID-19 dataset.<br>\n",
    "Display basic information about the dataset (e.g., data types, missing values).<br>"
   ]
  },
  {
   "cell_type": "code",
   "execution_count": 13,
   "id": "579f8f74",
   "metadata": {},
   "outputs": [
    {
     "name": "stdout",
     "output_type": "stream",
     "text": [
      "<class 'pandas.core.frame.DataFrame'>\n",
      "RangeIndex: 306429 entries, 0 to 306428\n",
      "Data columns (total 8 columns):\n",
      " #   Column           Non-Null Count   Dtype  \n",
      "---  ------           --------------   -----  \n",
      " 0   SNo              306429 non-null  int64  \n",
      " 1   ObservationDate  306429 non-null  object \n",
      " 2   Province/State   228326 non-null  object \n",
      " 3   Country/Region   306429 non-null  object \n",
      " 4   Last Update      306429 non-null  object \n",
      " 5   Confirmed        306429 non-null  float64\n",
      " 6   Deaths           306429 non-null  float64\n",
      " 7   Recovered        306429 non-null  float64\n",
      "dtypes: float64(3), int64(1), object(4)\n",
      "memory usage: 18.7+ MB\n",
      "None\n",
      "   SNo ObservationDate Province/State  Country/Region      Last Update  \\\n",
      "0    1      01/22/2020          Anhui  Mainland China  1/22/2020 17:00   \n",
      "1    2      01/22/2020        Beijing  Mainland China  1/22/2020 17:00   \n",
      "2    3      01/22/2020      Chongqing  Mainland China  1/22/2020 17:00   \n",
      "3    4      01/22/2020         Fujian  Mainland China  1/22/2020 17:00   \n",
      "4    5      01/22/2020          Gansu  Mainland China  1/22/2020 17:00   \n",
      "\n",
      "   Confirmed  Deaths  Recovered  \n",
      "0        1.0     0.0        0.0  \n",
      "1       14.0     0.0        0.0  \n",
      "2        6.0     0.0        0.0  \n",
      "3        1.0     0.0        0.0  \n",
      "4        0.0     0.0        0.0  \n"
     ]
    }
   ],
   "source": [
    "import pandas as pd\n",
    "import matplotlib.pyplot as plt\n",
    "import seaborn as sns\n",
    "\n",
    "# Load the dataset\n",
    "df = pd.read_csv(r\"NovelCoronovirusDataset\\covid_19_data.csv\")\n",
    "\n",
    "# Display basic information about the dataset\n",
    "print(df.info())\n",
    "print(df.head())\n"
   ]
  },
  {
   "cell_type": "markdown",
   "id": "dae88c41",
   "metadata": {},
   "source": [
    "# 2. Data Cleaning:"
   ]
  },
  {
   "cell_type": "code",
   "execution_count": null,
   "id": "1d68146b",
   "metadata": {},
   "outputs": [],
   "source": [
    "Handle missing values.\n",
    "Convert data types if necessary.\n",
    "Check for duplicates."
   ]
  },
  {
   "cell_type": "code",
   "execution_count": null,
   "id": "d18cec5a",
   "metadata": {},
   "outputs": [],
   "source": [
    "df.isna().sum()"
   ]
  },
  {
   "cell_type": "code",
   "execution_count": 14,
   "id": "912d0b29",
   "metadata": {},
   "outputs": [
    {
     "name": "stdout",
     "output_type": "stream",
     "text": [
      "Number of duplicates: 0\n"
     ]
    }
   ],
   "source": [
    "# Handle missing values\n",
    "df.dropna(inplace=True)\n",
    "\n",
    "# Convert data types if necessary\n",
    "df['ObservationDate'] = pd.to_datetime(df['ObservationDate'])\n",
    "\n",
    "# Check for duplicates\n",
    "print(\"Number of duplicates:\", df.duplicated().sum())\n"
   ]
  },
  {
   "cell_type": "code",
   "execution_count": 15,
   "id": "ea4fe258",
   "metadata": {},
   "outputs": [
    {
     "data": {
      "text/plain": [
       "SNo                         int64\n",
       "ObservationDate    datetime64[ns]\n",
       "Province/State             object\n",
       "Country/Region             object\n",
       "Last Update                object\n",
       "Confirmed                 float64\n",
       "Deaths                    float64\n",
       "Recovered                 float64\n",
       "dtype: object"
      ]
     },
     "execution_count": 15,
     "metadata": {},
     "output_type": "execute_result"
    }
   ],
   "source": [
    "df.dtypes"
   ]
  },
  {
   "cell_type": "code",
   "execution_count": 16,
   "id": "771a8821",
   "metadata": {},
   "outputs": [
    {
     "name": "stdout",
     "output_type": "stream",
     "text": [
      "Number of duplicates: 0\n"
     ]
    }
   ],
   "source": [
    "print(\"Number of duplicates:\", df.duplicated().sum())"
   ]
  },
  {
   "cell_type": "markdown",
   "id": "04e2a66b",
   "metadata": {},
   "source": [
    "# 3. Descriptive Statistics:"
   ]
  },
  {
   "cell_type": "markdown",
   "id": "a4344528",
   "metadata": {},
   "source": [
    "Generate descriptive statistics (mean, median, min, max) for numeric columns.<br>\n",
    "Explore summary statistics for categorical columns."
   ]
  },
  {
   "cell_type": "code",
   "execution_count": 17,
   "id": "3857fde5",
   "metadata": {},
   "outputs": [
    {
     "name": "stdout",
     "output_type": "stream",
     "text": [
      "                 SNo                ObservationDate     Confirmed  \\\n",
      "count  228326.000000                         228326  2.283260e+05   \n",
      "mean   158732.777113  2020-11-14 03:17:45.686780928  8.021381e+04   \n",
      "min         1.000000            2020-01-22 00:00:00 -3.028440e+05   \n",
      "25%     85431.250000            2020-08-11 00:00:00  1.225000e+03   \n",
      "50%    159305.500000            2020-11-18 00:00:00  1.175750e+04   \n",
      "75%    232835.750000            2021-02-22 00:00:00  4.841125e+04   \n",
      "max    306429.000000            2021-05-29 00:00:00  5.713215e+06   \n",
      "std     85862.065298                            NaN  2.493661e+05   \n",
      "\n",
      "              Deaths     Recovered  \n",
      "count  228326.000000  2.283260e+05  \n",
      "mean     1961.373273  4.184345e+04  \n",
      "min      -178.000000 -8.544050e+05  \n",
      "25%        15.000000  0.000000e+00  \n",
      "50%       234.000000  1.211000e+03  \n",
      "75%      1411.000000  1.660275e+04  \n",
      "max    112385.000000  6.399531e+06  \n",
      "std      5871.937048  1.793670e+05  \n",
      "Country/Region\n",
      "Russia            30129\n",
      "US                26740\n",
      "Japan             17932\n",
      "Mainland China    15758\n",
      "India             13050\n",
      "Colombia          12419\n",
      "Mexico            12199\n",
      "Brazil            10144\n",
      "Ukraine            9801\n",
      "Peru               9542\n",
      "Italy              8001\n",
      "Spain              7615\n",
      "Sweden             7539\n",
      "Canada             6960\n",
      "UK                 6553\n",
      "Germany            6481\n",
      "Chile              6375\n",
      "Netherlands        5864\n",
      "France             4544\n",
      "Australia          3785\n",
      "Pakistan           2478\n",
      "Belgium            2388\n",
      "Denmark             893\n",
      "Hong Kong           494\n",
      "Macau               494\n",
      "Taiwan               49\n",
      "China                48\n",
      "Others               46\n",
      "Israel                5\n",
      "Name: count, dtype: int64\n"
     ]
    }
   ],
   "source": [
    "# Descriptive statistics\n",
    "print(df.describe())\n",
    "\n",
    "# Summary statistics for categorical columns\n",
    "print(df['Country/Region'].value_counts())\n"
   ]
  },
  {
   "cell_type": "markdown",
   "id": "2f45fc8d",
   "metadata": {},
   "source": [
    "# 4. Time Series Analysis:"
   ]
  },
  {
   "cell_type": "markdown",
   "id": "439d6106",
   "metadata": {},
   "source": [
    "Analyze the trends in confirmed, deaths, and recovered cases over time.<br>\n",
    "Create time-based visualizations."
   ]
  },
  {
   "cell_type": "code",
   "execution_count": 18,
   "id": "5b08418f",
   "metadata": {},
   "outputs": [
    {
     "data": {
      "image/png": "[encoded data removed]",
      "text/plain": [
       "<Figure size 1200x600 with 1 Axes>"
      ]
     },
     "metadata": {},
     "output_type": "display_data"
    }
   ],
   "source": [
    "# Time series analysis\n",
    "df_time = df.groupby('ObservationDate').agg({'Confirmed': 'sum', 'Deaths': 'sum', 'Recovered': 'sum'})\n",
    "\n",
    "# Plot time series data\n",
    "plt.figure(figsize=(12, 6))\n",
    "sns.lineplot(data=df_time, x='ObservationDate', y='Confirmed', label='Confirmed')\n",
    "sns.lineplot(data=df_time, x='ObservationDate', y='Deaths', label='Deaths')\n",
    "sns.lineplot(data=df_time, x='ObservationDate', y='Recovered', label='Recovered')\n",
    "plt.title('COVID-19 Time Series Analysis')\n",
    "plt.xlabel('Date')\n",
    "plt.ylabel('Count')\n",
    "plt.show()\n"
   ]
  },
  {
   "cell_type": "markdown",
   "id": "b28a10d5",
   "metadata": {},
   "source": [
    "# 5. Geographical Analysis:"
   ]
  },
  {
   "cell_type": "markdown",
   "id": "86020062",
   "metadata": {},
   "source": [
    "Analyze the distribution of cases across different countries/regions.<br>\n",
    "Create geographical visualizations (e.g., world map)."
   ]
  },
  {
   "cell_type": "code",
   "execution_count": null,
   "id": "0397a5b1",
   "metadata": {},
   "outputs": [],
   "source": [
    "# Geographical analysis\n",
    "df_country = df.groupby('Country/Region').agg({'Confirmed': 'sum', 'Deaths': 'sum', 'Recovered': 'sum'})\n",
    "\n",
    "# Plot geographical data\n",
    "plt.figure(figsize=(12, 6))\n",
    "sns.barplot(x=df_country.index, y='Confirmed', data=df_country)\n",
    "plt.title('COVID-19 Confirmed Cases by Country')\n",
    "plt.xlabel('Country')\n",
    "plt.ylabel('Confirmed Cases')\n",
    "plt.xticks(rotation=90, ha='center')\n",
    "plt.show()\n"
   ]
  },
  {
   "cell_type": "markdown",
   "id": "f4f0145f",
   "metadata": {},
   "source": [
    "# 6. Correlation Analysis:"
   ]
  },
  {
   "cell_type": "markdown",
   "id": "0251a2d2",
   "metadata": {},
   "source": [
    "Examine the correlation between different numeric variables."
   ]
  },
  {
   "cell_type": "code",
   "execution_count": 19,
   "id": "373d2da4",
   "metadata": {},
   "outputs": [
    {
     "data": {
      "image/png": "[encoded data removed]",
      "text/plain": [
       "<Figure size 640x480 with 2 Axes>"
      ]
     },
     "metadata": {},
     "output_type": "display_data"
    }
   ],
   "source": [
    "# Correlation analysis\n",
    "correlation_matrix = df[['Confirmed', 'Deaths', 'Recovered']].corr()\n",
    "\n",
    "# Plot correlation matrix\n",
    "sns.heatmap(correlation_matrix, annot=True, cmap='coolwarm', fmt=\".2f\")\n",
    "plt.title('Correlation Matrix')\n",
    "plt.show()\n"
   ]
  },
  {
   "cell_type": "markdown",
   "id": "ff43e8cd",
   "metadata": {},
   "source": [
    "# 7. Advanced Analysis:"
   ]
  },
  {
   "cell_type": "markdown",
   "id": "1e2c4c1c",
   "metadata": {},
   "source": [
    "Explore advanced visualizations or statistical tests based on the specific questions you want to answer."
   ]
  },
  {
   "cell_type": "code",
   "execution_count": null,
   "id": "a8a518cd",
   "metadata": {},
   "outputs": [],
   "source": [
    "# Calculate the total number of confirmed cases, deaths, and recoveries for each country/region.\n",
    "\n"
   ]
  },
  {
   "cell_type": "code",
   "execution_count": null,
   "id": "5b493730",
   "metadata": {},
   "outputs": [],
   "source": [
    "# Identify the countries/regions with the highest number of confirmed cases, deaths, and recoveries.\n",
    "\n"
   ]
  },
  {
   "cell_type": "code",
   "execution_count": null,
   "id": "9ae71b92",
   "metadata": {},
   "outputs": [],
   "source": [
    "# Visualize the distribution of deaths using bar chart\n",
    "\n"
   ]
  }
 ],
 "metadata": {
  "kernelspec": {
   "display_name": "Python 3 (ipykernel)",
   "language": "python",
   "name": "python3"
  },
  "language_info": {
   "codemirror_mode": {
    "name": "ipython",
    "version": 3
   },
   "file_extension": ".py",
   "mimetype": "text/x-python",
   "name": "python",
   "nbconvert_exporter": "python",
   "pygments_lexer": "ipython3",
   "version": "3.11.5"
  }
 },
 "nbformat": 4,
 "nbformat_minor": 5
}
